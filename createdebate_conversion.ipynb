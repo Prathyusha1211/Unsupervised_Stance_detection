{
  "cells": [
    {
      "cell_type": "code",
      "execution_count": null,
      "metadata": {
        "id": "-pcq1FGPuzE0"
      },
      "outputs": [],
      "source": [
        "import requests as req\n",
        "import pandas as pd\n",
        "import gzip\n",
        "import re\n",
        "import os"
      ]
    },
    {
      "cell_type": "code",
      "execution_count": null,
      "metadata": {
        "colab": {
          "base_uri": "https://localhost:8080/",
          "height": 36
        },
        "id": "vddqLGGkyO1N",
        "outputId": "f4b413d8-9291-409d-98af-e78352385aa6"
      },
      "outputs": [
        {
          "data": {
            "application/vnd.google.colaboratory.intrinsic+json": {
              "type": "string"
            },
            "text/plain": [
              "'/content'"
            ]
          },
          "execution_count": 25,
          "metadata": {},
          "output_type": "execute_result"
        }
      ],
      "source": [
        "os.getcwd()"
      ]
    },
    {
      "cell_type": "code",
      "execution_count": null,
      "metadata": {
        "id": "Zo4O1eeDyXzB"
      },
      "outputs": [],
      "source": [
        "#file downloading\n",
        "url = \"http://nldslab.soe.ucsc.edu/iac/v2/convinceme_2016_05_18.sql.gz\"\n",
        "r = req.get(url)\n",
        "name = url.split(\"/\")[-1] #createdebate_released_no_parse_2016_05_18.sql.gz\n",
        "with open(name,'wb') as f:\n",
        "  f.write(r.content)\n",
        "f.close()\n",
        "#Extracting .gz file into sql\n",
        "sql = open(name[:-3],'wb') #createdebate_released_no_parse_2016_05_18.sql\n",
        "with gzip.open('/content/'+name, 'rb') as f:\n",
        "    sql.write(f.read())\n",
        "f.close()\n",
        "sql.close()\n",
        "os.remove(\"/content/\"+name)\n",
        "name = name[:-3] #createdebate_released_no_parse_2016_05_18.sql"
      ]
    },
    {
      "cell_type": "code",
      "execution_count": null,
      "metadata": {
        "colab": {
          "base_uri": "https://localhost:8080/"
        },
        "id": "beDivmx8ydbw",
        "outputId": "4a2d2cc8-cf7d-4c57-a72f-95efe74a558f"
      },
      "outputs": [
        {
          "name": "stdout",
          "output_type": "stream",
          "text": [
            "1404\n",
            "936\n"
          ]
        },
        {
          "name": "stderr",
          "output_type": "stream",
          "text": [
            "IOPub data rate exceeded.\n",
            "The notebook server will temporarily stop sending output\n",
            "to the client in order to avoid crashing it.\n",
            "To change this limit, set the config variable\n",
            "`--NotebookApp.iopub_data_rate_limit`.\n",
            "\n",
            "Current values:\n",
            "NotebookApp.iopub_data_rate_limit=1000000.0 (bytes/sec)\n",
            "NotebookApp.rate_limit_window=3.0 (secs)\n",
            "\n"
          ]
        }
      ],
      "source": [
        "datafile = open(name,'r')\n",
        "data = datafile.readlines()\n",
        "datafile.close()\n",
        "print(len(data))\n",
        "com = []\n",
        "for i in range(len(data)):\n",
        "  if data[i][0:2] not in ['--','/*','\\n','DR','LO','UN']:\n",
        "    com+=[data[i]]\n",
        "print(len(com))\n",
        "print(com)"
      ]
    },
    {
      "cell_type": "code",
      "execution_count": null,
      "metadata": {
        "colab": {
          "background_save": true,
          "base_uri": "https://localhost:8080/"
        },
        "id": "FHkYFkngymzW",
        "outputId": "e1416278-b67a-481c-fba9-ecc7424de0ed"
      },
      "outputs": [
        {
          "name": "stdout",
          "output_type": "stream",
          "text": [
            "dict_keys(['author'])\n",
            "datframe {'author': Empty DataFrame\n",
            "Columns: [author_id]\n",
            "Index: []}\n",
            "datframe {'author': Empty DataFrame\n",
            "Columns: [author_id, username]\n",
            "Index: []}\n",
            "author\n",
            "Index(['author_id', 'username'], dtype='object')\n",
            "dict_keys(['author', 'corenlp_coref'])\n",
            "datframe {'author':      author_id                 username\n",
            "0            1       'kittycatmeowmeow'\n",
            "1            2                'pgandal'\n",
            "2            3            'iknowindigo'\n",
            "3            4                'vonkain'\n",
            "4            5             'Adam Green'\n",
            "...        ...                      ...\n",
            "5778      5779          'Peter Jussila'\n",
            "5779      5780        'Ciarán Harkness'\n",
            "5780      5781         'Felipe Velasco'\n",
            "5781      5782         'Rich Dellinger'\n",
            "5782      5783  'Samuel Hermansson');\\n\n",
            "\n",
            "[5783 rows x 2 columns], 'corenlp_coref': Empty DataFrame\n",
            "Columns: [text_id]\n",
            "Index: []}\n",
            "datframe {'author':      author_id                 username\n",
            "0            1       'kittycatmeowmeow'\n",
            "1            2                'pgandal'\n",
            "2            3            'iknowindigo'\n",
            "3            4                'vonkain'\n",
            "4            5             'Adam Green'\n",
            "...        ...                      ...\n",
            "5778      5779          'Peter Jussila'\n",
            "5779      5780        'Ciarán Harkness'\n",
            "5780      5781         'Felipe Velasco'\n",
            "5781      5782         'Rich Dellinger'\n",
            "5782      5783  'Samuel Hermansson');\\n\n",
            "\n",
            "[5783 rows x 2 columns], 'corenlp_coref': Empty DataFrame\n",
            "Columns: [text_id, coref_id]\n",
            "Index: []}\n",
            "datframe {'author':      author_id                 username\n",
            "0            1       'kittycatmeowmeow'\n",
            "1            2                'pgandal'\n",
            "2            3            'iknowindigo'\n",
            "3            4                'vonkain'\n",
            "4            5             'Adam Green'\n",
            "...        ...                      ...\n",
            "5778      5779          'Peter Jussila'\n",
            "5779      5780        'Ciarán Harkness'\n",
            "5780      5781         'Felipe Velasco'\n",
            "5781      5782         'Rich Dellinger'\n",
            "5782      5783  'Samuel Hermansson');\\n\n",
            "\n",
            "[5783 rows x 2 columns], 'corenlp_coref': Empty DataFrame\n",
            "Columns: [text_id, coref_id, coref_chain_id]\n",
            "Index: []}\n",
            "datframe {'author':      author_id                 username\n",
            "0            1       'kittycatmeowmeow'\n",
            "1            2                'pgandal'\n",
            "2            3            'iknowindigo'\n",
            "3            4                'vonkain'\n",
            "4            5             'Adam Green'\n",
            "...        ...                      ...\n",
            "5778      5779          'Peter Jussila'\n",
            "5779      5780        'Ciarán Harkness'\n",
            "5780      5781         'Felipe Velasco'\n",
            "5781      5782         'Rich Dellinger'\n",
            "5782      5783  'Samuel Hermansson');\\n\n",
            "\n",
            "[5783 rows x 2 columns], 'corenlp_coref': Empty DataFrame\n",
            "Columns: [text_id, coref_id, coref_chain_id, token_index_first]\n",
            "Index: []}\n",
            "datframe {'author':      author_id                 username\n",
            "0            1       'kittycatmeowmeow'\n",
            "1            2                'pgandal'\n",
            "2            3            'iknowindigo'\n",
            "3            4                'vonkain'\n",
            "4            5             'Adam Green'\n",
            "...        ...                      ...\n",
            "5778      5779          'Peter Jussila'\n",
            "5779      5780        'Ciarán Harkness'\n",
            "5780      5781         'Felipe Velasco'\n",
            "5781      5782         'Rich Dellinger'\n",
            "5782      5783  'Samuel Hermansson');\\n\n",
            "\n",
            "[5783 rows x 2 columns], 'corenlp_coref': Empty DataFrame\n",
            "Columns: [text_id, coref_id, coref_chain_id, token_index_first, token_index_last]\n",
            "Index: []}\n",
            "datframe {'author':      author_id                 username\n",
            "0            1       'kittycatmeowmeow'\n",
            "1            2                'pgandal'\n",
            "2            3            'iknowindigo'\n",
            "3            4                'vonkain'\n",
            "4            5             'Adam Green'\n",
            "...        ...                      ...\n",
            "5778      5779          'Peter Jussila'\n",
            "5779      5780        'Ciarán Harkness'\n",
            "5780      5781         'Felipe Velasco'\n",
            "5781      5782         'Rich Dellinger'\n",
            "5782      5783  'Samuel Hermansson');\\n\n",
            "\n",
            "[5783 rows x 2 columns], 'corenlp_coref': Empty DataFrame\n",
            "Columns: [text_id, coref_id, coref_chain_id, token_index_first, token_index_last, token_index_head]\n",
            "Index: []}\n",
            "datframe {'author':      author_id                 username\n",
            "0            1       'kittycatmeowmeow'\n",
            "1            2                'pgandal'\n",
            "2            3            'iknowindigo'\n",
            "3            4                'vonkain'\n",
            "4            5             'Adam Green'\n",
            "...        ...                      ...\n",
            "5778      5779          'Peter Jussila'\n",
            "5779      5780        'Ciarán Harkness'\n",
            "5780      5781         'Felipe Velasco'\n",
            "5781      5782         'Rich Dellinger'\n",
            "5782      5783  'Samuel Hermansson');\\n\n",
            "\n",
            "[5783 rows x 2 columns], 'corenlp_coref': Empty DataFrame\n",
            "Columns: [text_id, coref_id, coref_chain_id, token_index_first, token_index_last, token_index_head, is_representative]\n",
            "Index: []}\n",
            "corenlp_coref\n",
            "Index(['text_id', 'coref_id', 'coref_chain_id', 'token_index_first',\n",
            "       'token_index_last', 'token_index_head', 'is_representative'],\n",
            "      dtype='object')\n",
            "corenlp_coref\n",
            "Index(['text_id', 'coref_id', 'coref_chain_id', 'token_index_first',\n",
            "       'token_index_last', 'token_index_head', 'is_representative'],\n",
            "      dtype='object')\n",
            "corenlp_coref\n",
            "Index(['text_id', 'coref_id', 'coref_chain_id', 'token_index_first',\n",
            "       'token_index_last', 'token_index_head', 'is_representative'],\n",
            "      dtype='object')\n",
            "corenlp_coref\n",
            "Index(['text_id', 'coref_id', 'coref_chain_id', 'token_index_first',\n",
            "       'token_index_last', 'token_index_head', 'is_representative'],\n",
            "      dtype='object')\n",
            "corenlp_coref\n",
            "Index(['text_id', 'coref_id', 'coref_chain_id', 'token_index_first',\n",
            "       'token_index_last', 'token_index_head', 'is_representative'],\n",
            "      dtype='object')\n"
          ]
        }
      ],
      "source": [
        "DictofDF = {}\n",
        "#flags\n",
        "tabcre = None\n",
        "for i in range(len(com)):\n",
        "  val = com[i]\n",
        "  if 'CREATE TABLE' in val:\n",
        "    tname = re.search(r'`[^\\s()]+`',val)\n",
        "    tname = tname.group()[1:-1]\n",
        "    DictofDF[tname] = pd.DataFrame()\n",
        "    print(DictofDF.keys())\n",
        "    tabcre = tname\n",
        "    continue\n",
        "  if tabcre != None:\n",
        "    if 'PRIMARY' in val:\n",
        "      tabcre = None\n",
        "    else:\n",
        "      tcol = re.search(r'`[^\\s()]+`',val)\n",
        "      tcol = tcol.group()[1:-1]\n",
        "      DictofDF[tabcre][tcol] = \"\"\n",
        "      print(\"datframe\",DictofDF)\n",
        "  if 'INSERT INTO' in val:\n",
        "    tab = re.search(r'`[^\\s()]+`',val)\n",
        "    tab = tab.group(0)[1:-1]\n",
        "    print(tab)\n",
        "    Df = DictofDF[tab]\n",
        "    val = val[val.find('('):].split(\"),\")  #split from left parantheses to right parantheses with ,split\n",
        "    print(Df.columns)\n",
        "    #print(val[0])\n",
        "    for row in range(len(val)):\n",
        "      lis = val[row][1:].split(',') #split the row with comma and take the values as list\n",
        "      if len(lis)!=len(Df.columns):\n",
        "        lis = lis[0:len(Df.columns)-1]+[str(lis[len(Df.columns):])]\n",
        "        lis[-1]= lis[-1][1:-1]\n",
        "        #Df.loc[len(Df)]=lis\n",
        "      #if len(lis)==len(Df.columns):\n",
        "      Df.loc[len(Df)]=lis\n",
        "DictofDF.keys()\n"
      ]
    },
    {
      "cell_type": "code",
      "execution_count": null,
      "metadata": {
        "id": "y7RafUdgy0e6"
      },
      "outputs": [],
      "source": [
        "for i in DictofDF.keys():\n",
        "  print(DictofDF[i].head())"
      ]
    },
    {
      "cell_type": "code",
      "execution_count": null,
      "metadata": {
        "id": "0auuOZFCy9Wj"
      },
      "outputs": [],
      "source": [
        "from pandas import ExcelWriter\n",
        "writer = ExcelWriter('/content/'+name[:-4]+'.xlsx')\n",
        "for key in DictofDF.keys():\n",
        "  DictofDF[key].to_excel(writer, sheet_name=key)\n",
        "writer.save()"
      ]
    }
  ],
  "metadata": {
    "colab": {
      "provenance": []
    },
    "kernelspec": {
      "display_name": "Python 3",
      "name": "python3"
    },
    "language_info": {
      "name": "python"
    }
  },
  "nbformat": 4,
  "nbformat_minor": 0
}